{
  "nbformat": 4,
  "nbformat_minor": 0,
  "metadata": {
    "colab": {
      "provenance": [],
      "machine_shape": "hm",
      "gpuType": "T4"
    },
    "kernelspec": {
      "name": "python3",
      "display_name": "Python 3"
    },
    "language_info": {
      "name": "python"
    },
    "accelerator": "GPU"
  },
  "cells": [
    {
      "cell_type": "markdown",
      "source": [
        "# Training"
      ],
      "metadata": {
        "id": "5nmy9KO8L6mW"
      }
    },
    {
      "cell_type": "code",
      "execution_count": null,
      "metadata": {
        "colab": {
          "base_uri": "https://localhost:8080/"
        },
        "id": "fJV8TKUeBvPj",
        "outputId": "ddbae36a-75bf-47a7-8208-3c1de82a3e3d"
      },
      "outputs": [
        {
          "output_type": "stream",
          "name": "stdout",
          "text": [
            "Wed Apr 17 13:36:19 2024       \n",
            "+---------------------------------------------------------------------------------------+\n",
            "| NVIDIA-SMI 535.104.05             Driver Version: 535.104.05   CUDA Version: 12.2     |\n",
            "|-----------------------------------------+----------------------+----------------------+\n",
            "| GPU  Name                 Persistence-M | Bus-Id        Disp.A | Volatile Uncorr. ECC |\n",
            "| Fan  Temp   Perf          Pwr:Usage/Cap |         Memory-Usage | GPU-Util  Compute M. |\n",
            "|                                         |                      |               MIG M. |\n",
            "|=========================================+======================+======================|\n",
            "|   0  NVIDIA A100-SXM4-40GB          Off | 00000000:00:04.0 Off |                    0 |\n",
            "| N/A   30C    P0              44W / 400W |      2MiB / 40960MiB |      0%      Default |\n",
            "|                                         |                      |             Disabled |\n",
            "+-----------------------------------------+----------------------+----------------------+\n",
            "                                                                                         \n",
            "+---------------------------------------------------------------------------------------+\n",
            "| Processes:                                                                            |\n",
            "|  GPU   GI   CI        PID   Type   Process name                            GPU Memory |\n",
            "|        ID   ID                                                             Usage      |\n",
            "|=======================================================================================|\n",
            "|  No running processes found                                                           |\n",
            "+---------------------------------------------------------------------------------------+\n"
          ]
        }
      ],
      "source": [
        "!nvidia-smi"
      ]
    },
    {
      "cell_type": "code",
      "source": [
        "import os\n",
        "HOME = os.getcwd()\n",
        "print(HOME)"
      ],
      "metadata": {
        "colab": {
          "base_uri": "https://localhost:8080/"
        },
        "id": "gUAAo5lIBxv8",
        "outputId": "2c7ff26e-cc56-4b1d-c150-80cff0511809"
      },
      "execution_count": null,
      "outputs": [
        {
          "output_type": "stream",
          "name": "stdout",
          "text": [
            "/content\n"
          ]
        }
      ]
    },
    {
      "cell_type": "code",
      "source": [
        "!pip install ultralytics==8.0.196\n",
        "\n",
        "from IPython import display\n",
        "display.clear_output()\n",
        "\n",
        "import ultralytics\n",
        "from ultralytics import YOLO\n",
        "from IPython.display import display, Image\n",
        "ultralytics.checks()"
      ],
      "metadata": {
        "colab": {
          "base_uri": "https://localhost:8080/"
        },
        "id": "WbCQyJUWBy6E",
        "outputId": "66d0b553-90b0-4a34-b709-b13febeeb131"
      },
      "execution_count": null,
      "outputs": [
        {
          "output_type": "stream",
          "name": "stderr",
          "text": [
            "Ultralytics YOLOv8.0.196 🚀 Python-3.10.12 torch-2.2.1+cu121 CPU (Intel Xeon 2.20GHz)\n",
            "Setup complete ✅ (2 CPUs, 12.7 GB RAM, 29.0/225.8 GB disk)\n"
          ]
        }
      ]
    },
    {
      "cell_type": "code",
      "source": [
        "!mkdir {HOME}/datasets\n",
        "%cd {HOME}/datasets"
      ],
      "metadata": {
        "colab": {
          "base_uri": "https://localhost:8080/"
        },
        "id": "lXeu8n0UBz2N",
        "outputId": "f8f9f3d6-6577-43d3-ce90-f30a55aabca8"
      },
      "execution_count": null,
      "outputs": [
        {
          "output_type": "stream",
          "name": "stdout",
          "text": [
            "/content/datasets\n"
          ]
        }
      ]
    },
    {
      "cell_type": "code",
      "source": [
        "!pip install roboflow --quiet"
      ],
      "metadata": {
        "colab": {
          "base_uri": "https://localhost:8080/"
        },
        "id": "x2LasNfMB0-o",
        "outputId": "8b4836e7-b906-4470-df20-4c9542cb6c70"
      },
      "execution_count": null,
      "outputs": [
        {
          "output_type": "stream",
          "name": "stdout",
          "text": [
            "\u001b[?25l     \u001b[90m━━━━━━━━━━━━━━━━━━━━━━━━━━━━━━━━━━━━━━━━\u001b[0m \u001b[32m0.0/74.1 kB\u001b[0m \u001b[31m?\u001b[0m eta \u001b[36m-:--:--\u001b[0m\r\u001b[2K     \u001b[90m━━━━━━━━━━━━━━━━━━━━━━━━━━━━━━━━━━━━━━━━\u001b[0m \u001b[32m74.1/74.1 kB\u001b[0m \u001b[31m3.2 MB/s\u001b[0m eta \u001b[36m0:00:00\u001b[0m\n",
            "\u001b[?25h\u001b[?25l     \u001b[90m━━━━━━━━━━━━━━━━━━━━━━━━━━━━━━━━━━━━━━━━\u001b[0m \u001b[32m0.0/158.3 kB\u001b[0m \u001b[31m?\u001b[0m eta \u001b[36m-:--:--\u001b[0m\r\u001b[2K     \u001b[90m━━━━━━━━━━━━━━━━━━━━━━━━━━━━━━━━━━━━━━━━\u001b[0m \u001b[32m158.3/158.3 kB\u001b[0m \u001b[31m9.6 MB/s\u001b[0m eta \u001b[36m0:00:00\u001b[0m\n",
            "\u001b[2K     \u001b[90m━━━━━━━━━━━━━━━━━━━━━━━━━━━━━━━━━━━━━━━━\u001b[0m \u001b[32m178.7/178.7 kB\u001b[0m \u001b[31m12.9 MB/s\u001b[0m eta \u001b[36m0:00:00\u001b[0m\n",
            "\u001b[2K     \u001b[90m━━━━━━━━━━━━━━━━━━━━━━━━━━━━━━━━━━━━━━━━\u001b[0m \u001b[32m58.8/58.8 kB\u001b[0m \u001b[31m8.4 MB/s\u001b[0m eta \u001b[36m0:00:00\u001b[0m\n",
            "\u001b[2K     \u001b[90m━━━━━━━━━━━━━━━━━━━━━━━━━━━━━━━━━━━━━━━━\u001b[0m \u001b[32m49.1/49.1 MB\u001b[0m \u001b[31m28.7 MB/s\u001b[0m eta \u001b[36m0:00:00\u001b[0m\n",
            "\u001b[2K     \u001b[90m━━━━━━━━━━━━━━━━━━━━━━━━━━━━━━━━━━━━━━━━\u001b[0m \u001b[32m54.5/54.5 kB\u001b[0m \u001b[31m8.2 MB/s\u001b[0m eta \u001b[36m0:00:00\u001b[0m\n",
            "\u001b[?25h"
          ]
        }
      ]
    },
    {
      "cell_type": "code",
      "source": [
        "from roboflow import Roboflow\n",
        "rf = Roboflow(api_key=\"\")\n",
        "project = rf.workspace(\"\\").project(\"\")\n",
        "version = project.version(4)\n",
        "dataset = version.download(\"yolov8\")"
      ],
      "metadata": {
        "colab": {
          "base_uri": "https://localhost:8080/"
        },
        "id": "9NUALNU8B2Dh",
        "outputId": "66a37039-5c27-4b9e-8b17-1896b090c83d"
      },
      "execution_count": null,
      "outputs": [
        {
          "output_type": "stream",
          "name": "stdout",
          "text": [
            "loading Roboflow workspace...\n",
            "loading Roboflow project...\n"
          ]
        },
        {
          "output_type": "stream",
          "name": "stderr",
          "text": [
            "Downloading Dataset Version Zip in Basketball-detection-4 to yolov8:: 100%|██████████| 957500/957500 [00:29<00:00, 32168.25it/s]"
          ]
        },
        {
          "output_type": "stream",
          "name": "stdout",
          "text": [
            "\n"
          ]
        },
        {
          "output_type": "stream",
          "name": "stderr",
          "text": [
            "\n",
            "Extracting Dataset Version Zip to Basketball-detection-4 in yolov8:: 100%|██████████| 14984/14984 [00:03<00:00, 4373.17it/s]\n"
          ]
        }
      ]
    },
    {
      "cell_type": "code",
      "source": [
        "import torch\n",
        "torch.cuda.empty_cache()"
      ],
      "metadata": {
        "id": "6UYKBtOOK-wb"
      },
      "execution_count": null,
      "outputs": []
    },
    {
      "cell_type": "code",
      "source": [
        "%cd {HOME}\n",
        "!yolo task=detect mode=train model=yolov8l.pt data={dataset.location}/data.yaml epochs=100 imgsz=1280 plots=True"
      ],
      "metadata": {
        "colab": {
          "base_uri": "https://localhost:8080/"
        },
        "id": "BNB9HAzWB3YG",
        "outputId": "8f9924a0-32e5-4c36-e394-b8fa08539e9b"
      },
      "execution_count": null,
      "outputs": [
        {
          "output_type": "stream",
          "name": "stdout",
          "text": [
            "/content\n",
            "Downloading https://github.com/ultralytics/assets/releases/download/v0.0.0/yolov8l.pt to 'yolov8l.pt'...\n",
            "100% 83.7M/83.7M [00:00<00:00, 327MB/s]\n",
            "New https://pypi.org/project/ultralytics/8.2.0 available 😃 Update with 'pip install -U ultralytics'\n",
            "Ultralytics YOLOv8.0.196 🚀 Python-3.10.12 torch-2.2.1+cu121 CUDA:0 (NVIDIA A100-SXM4-40GB, 40514MiB)\n",
            "\u001b[34m\u001b[1mengine/trainer: \u001b[0mtask=detect, mode=train, model=yolov8l.pt, data=/content/datasets/Basketball-detection-4/data.yaml, epochs=100, patience=50, batch=16, imgsz=1280, save=True, save_period=-1, cache=False, device=None, workers=8, project=None, name=None, exist_ok=False, pretrained=True, optimizer=auto, verbose=True, seed=0, deterministic=True, single_cls=False, rect=False, cos_lr=False, close_mosaic=10, resume=False, amp=True, fraction=1.0, profile=False, freeze=None, overlap_mask=True, mask_ratio=4, dropout=0.0, val=True, split=val, save_json=False, save_hybrid=False, conf=None, iou=0.7, max_det=300, half=False, dnn=False, plots=True, source=None, show=False, save_txt=False, save_conf=False, save_crop=False, show_labels=True, show_conf=True, vid_stride=1, stream_buffer=False, line_width=None, visualize=False, augment=False, agnostic_nms=False, classes=None, retina_masks=False, boxes=True, format=torchscript, keras=False, optimize=False, int8=False, dynamic=False, simplify=False, opset=None, workspace=4, nms=False, lr0=0.01, lrf=0.01, momentum=0.937, weight_decay=0.0005, warmup_epochs=3.0, warmup_momentum=0.8, warmup_bias_lr=0.1, box=7.5, cls=0.5, dfl=1.5, pose=12.0, kobj=1.0, label_smoothing=0.0, nbs=64, hsv_h=0.015, hsv_s=0.7, hsv_v=0.4, degrees=0.0, translate=0.1, scale=0.5, shear=0.0, perspective=0.0, flipud=0.0, fliplr=0.5, mosaic=1.0, mixup=0.0, copy_paste=0.0, cfg=None, tracker=botsort.yaml, save_dir=runs/detect/train\n",
            "Downloading https://ultralytics.com/assets/Arial.ttf to '/root/.config/Ultralytics/Arial.ttf'...\n",
            "100% 755k/755k [00:00<00:00, 44.2MB/s]\n",
            "2024-04-17 13:38:32.388251: E external/local_xla/xla/stream_executor/cuda/cuda_dnn.cc:9261] Unable to register cuDNN factory: Attempting to register factory for plugin cuDNN when one has already been registered\n",
            "2024-04-17 13:38:32.388303: E external/local_xla/xla/stream_executor/cuda/cuda_fft.cc:607] Unable to register cuFFT factory: Attempting to register factory for plugin cuFFT when one has already been registered\n",
            "2024-04-17 13:38:32.390195: E external/local_xla/xla/stream_executor/cuda/cuda_blas.cc:1515] Unable to register cuBLAS factory: Attempting to register factory for plugin cuBLAS when one has already been registered\n",
            "Overriding model.yaml nc=80 with nc=3\n",
            "\n",
            "                   from  n    params  module                                       arguments                     \n",
            "  0                  -1  1      1856  ultralytics.nn.modules.conv.Conv             [3, 64, 3, 2]                 \n",
            "  1                  -1  1     73984  ultralytics.nn.modules.conv.Conv             [64, 128, 3, 2]               \n",
            "  2                  -1  3    279808  ultralytics.nn.modules.block.C2f             [128, 128, 3, True]           \n",
            "  3                  -1  1    295424  ultralytics.nn.modules.conv.Conv             [128, 256, 3, 2]              \n",
            "  4                  -1  6   2101248  ultralytics.nn.modules.block.C2f             [256, 256, 6, True]           \n",
            "  5                  -1  1   1180672  ultralytics.nn.modules.conv.Conv             [256, 512, 3, 2]              \n",
            "  6                  -1  6   8396800  ultralytics.nn.modules.block.C2f             [512, 512, 6, True]           \n",
            "  7                  -1  1   2360320  ultralytics.nn.modules.conv.Conv             [512, 512, 3, 2]              \n",
            "  8                  -1  3   4461568  ultralytics.nn.modules.block.C2f             [512, 512, 3, True]           \n",
            "  9                  -1  1    656896  ultralytics.nn.modules.block.SPPF            [512, 512, 5]                 \n",
            " 10                  -1  1         0  torch.nn.modules.upsampling.Upsample         [None, 2, 'nearest']          \n",
            " 11             [-1, 6]  1         0  ultralytics.nn.modules.conv.Concat           [1]                           \n",
            " 12                  -1  3   4723712  ultralytics.nn.modules.block.C2f             [1024, 512, 3]                \n",
            " 13                  -1  1         0  torch.nn.modules.upsampling.Upsample         [None, 2, 'nearest']          \n",
            " 14             [-1, 4]  1         0  ultralytics.nn.modules.conv.Concat           [1]                           \n",
            " 15                  -1  3   1247744  ultralytics.nn.modules.block.C2f             [768, 256, 3]                 \n",
            " 16                  -1  1    590336  ultralytics.nn.modules.conv.Conv             [256, 256, 3, 2]              \n",
            " 17            [-1, 12]  1         0  ultralytics.nn.modules.conv.Concat           [1]                           \n",
            " 18                  -1  3   4592640  ultralytics.nn.modules.block.C2f             [768, 512, 3]                 \n",
            " 19                  -1  1   2360320  ultralytics.nn.modules.conv.Conv             [512, 512, 3, 2]              \n",
            " 20             [-1, 9]  1         0  ultralytics.nn.modules.conv.Concat           [1]                           \n",
            " 21                  -1  3   4723712  ultralytics.nn.modules.block.C2f             [1024, 512, 3]                \n",
            " 22        [15, 18, 21]  1   5585113  ultralytics.nn.modules.head.Detect           [3, [256, 512, 512]]          \n",
            "Model summary: 365 layers, 43632153 parameters, 43632137 gradients, 165.4 GFLOPs\n",
            "\n",
            "Transferred 589/595 items from pretrained weights\n",
            "\u001b[34m\u001b[1mTensorBoard: \u001b[0mStart with 'tensorboard --logdir runs/detect/train', view at http://localhost:6006/\n",
            "Freezing layer 'model.22.dfl.conv.weight'\n",
            "\u001b[34m\u001b[1mAMP: \u001b[0mrunning Automatic Mixed Precision (AMP) checks with YOLOv8n...\n",
            "Downloading https://github.com/ultralytics/assets/releases/download/v0.0.0/yolov8n.pt to 'yolov8n.pt'...\n",
            "100% 6.23M/6.23M [00:00<00:00, 56.8MB/s]\n",
            "WARNING ⚠️ NMS time limit 0.550s exceeded\n",
            "\u001b[34m\u001b[1mAMP: \u001b[0mchecks passed ✅\n",
            "\u001b[34m\u001b[1mtrain: \u001b[0mScanning /content/datasets/Basketball-detection-4/train/labels... 6017 images, 0 backgrounds, 0 corrupt: 100% 6017/6017 [00:04<00:00, 1369.99it/s]\n",
            "\u001b[34m\u001b[1mtrain: \u001b[0mNew cache created: /content/datasets/Basketball-detection-4/train/labels.cache\n",
            "\u001b[34m\u001b[1malbumentations: \u001b[0mBlur(p=0.01, blur_limit=(3, 7)), MedianBlur(p=0.01, blur_limit=(3, 7)), ToGray(p=0.01), CLAHE(p=0.01, clip_limit=(1, 4.0), tile_grid_size=(8, 8))\n",
            "/usr/lib/python3.10/multiprocessing/popen_fork.py:66: RuntimeWarning: os.fork() was called. os.fork() is incompatible with multithreaded code, and JAX is multithreaded, so this will likely lead to a deadlock.\n",
            "  self.pid = os.fork()\n",
            "\u001b[34m\u001b[1mval: \u001b[0mScanning /content/datasets/Basketball-detection-4/valid/labels... 981 images, 0 backgrounds, 0 corrupt: 100% 981/981 [00:00<00:00, 1170.59it/s]\n",
            "\u001b[34m\u001b[1mval: \u001b[0mNew cache created: /content/datasets/Basketball-detection-4/valid/labels.cache\n",
            "Plotting labels to runs/detect/train/labels.jpg... \n",
            "\u001b[34m\u001b[1moptimizer:\u001b[0m 'optimizer=auto' found, ignoring 'lr0=0.01' and 'momentum=0.937' and determining best 'optimizer', 'lr0' and 'momentum' automatically... \n",
            "\u001b[34m\u001b[1moptimizer:\u001b[0m AdamW(lr=0.001429, momentum=0.9) with parameter groups 97 weight(decay=0.0), 104 weight(decay=0.0005), 103 bias(decay=0.0)\n",
            "Image sizes 1280 train, 1280 val\n",
            "Using 8 dataloader workers\n",
            "Logging results to \u001b[1mruns/detect/train\u001b[0m\n",
            "Starting training for 100 epochs...\n",
            "\n",
            "      Epoch    GPU_mem   box_loss   cls_loss   dfl_loss  Instances       Size\n",
            "      1/100      40.4G      1.011      1.248      1.254          1       1280: 100% 377/377 [03:25<00:00,  1.84it/s]\n",
            "                 Class     Images  Instances      Box(P          R      mAP50  mAP50-95): 100% 31/31 [00:15<00:00,  2.06it/s]\n",
            "                   all        981       3219      0.709      0.735      0.682       0.46\n",
            "\n",
            "      Epoch    GPU_mem   box_loss   cls_loss   dfl_loss  Instances       Size\n",
            "      2/100      41.2G      1.048     0.8937      1.287          4       1280: 100% 377/377 [03:18<00:00,  1.90it/s]\n",
            "                 Class     Images  Instances      Box(P          R      mAP50  mAP50-95): 100% 31/31 [00:14<00:00,  2.21it/s]\n",
            "                   all        981       3219       0.87      0.757      0.837       0.62\n",
            "\n",
            "      Epoch    GPU_mem   box_loss   cls_loss   dfl_loss  Instances       Size\n",
            "      3/100        40G     0.9934     0.7899      1.247          1       1280: 100% 377/377 [03:16<00:00,  1.92it/s]\n",
            "                 Class     Images  Instances      Box(P          R      mAP50  mAP50-95): 100% 31/31 [00:13<00:00,  2.24it/s]\n",
            "                   all        981       3219      0.932      0.858      0.931       0.69\n",
            "\n",
            "      Epoch    GPU_mem   box_loss   cls_loss   dfl_loss  Instances       Size\n",
            "      4/100      39.9G     0.9426     0.7203      1.216         10       1280: 100% 377/377 [03:15<00:00,  1.92it/s]\n",
            "                 Class     Images  Instances      Box(P          R      mAP50  mAP50-95): 100% 31/31 [00:13<00:00,  2.23it/s]\n",
            "                   all        981       3219      0.945      0.865      0.944      0.713\n",
            "\n",
            "      Epoch    GPU_mem   box_loss   cls_loss   dfl_loss  Instances       Size\n",
            "      5/100      39.6G     0.8965     0.6444      1.185         10       1280: 100% 377/377 [03:15<00:00,  1.92it/s]\n",
            "                 Class     Images  Instances      Box(P          R      mAP50  mAP50-95): 100% 31/31 [00:13<00:00,  2.23it/s]\n",
            "                   all        981       3219       0.93      0.869      0.936      0.731\n",
            "\n",
            "      Epoch    GPU_mem   box_loss   cls_loss   dfl_loss  Instances       Size\n",
            "      6/100      40.1G     0.8604     0.5987       1.16          1       1280: 100% 377/377 [03:16<00:00,  1.92it/s]\n",
            "                 Class     Images  Instances      Box(P          R      mAP50  mAP50-95): 100% 31/31 [00:13<00:00,  2.22it/s]\n",
            "                   all        981       3219       0.96      0.918      0.971       0.76\n",
            "\n",
            "      Epoch    GPU_mem   box_loss   cls_loss   dfl_loss  Instances       Size\n",
            "      7/100      40.1G     0.8398     0.5703      1.145         10       1280: 100% 377/377 [03:16<00:00,  1.92it/s]\n",
            "                 Class     Images  Instances      Box(P          R      mAP50  mAP50-95): 100% 31/31 [00:14<00:00,  2.20it/s]\n",
            "                   all        981       3219      0.956      0.907      0.966      0.763\n",
            "\n",
            "      Epoch    GPU_mem   box_loss   cls_loss   dfl_loss  Instances       Size\n",
            "      8/100      39.5G     0.8103     0.5379      1.122          5       1280: 100% 377/377 [03:16<00:00,  1.92it/s]\n",
            "                 Class     Images  Instances      Box(P          R      mAP50  mAP50-95): 100% 31/31 [00:13<00:00,  2.24it/s]\n",
            "                   all        981       3219      0.946      0.919      0.966      0.766\n",
            "\n",
            "      Epoch    GPU_mem   box_loss   cls_loss   dfl_loss  Instances       Size\n",
            "      9/100      40.2G     0.7993     0.5184      1.117          5       1280: 100% 377/377 [03:16<00:00,  1.92it/s]\n",
            "                 Class     Images  Instances      Box(P          R      mAP50  mAP50-95): 100% 31/31 [00:14<00:00,  2.21it/s]\n",
            "                   all        981       3219      0.972      0.928      0.974      0.785\n",
            "\n",
            "      Epoch    GPU_mem   box_loss   cls_loss   dfl_loss  Instances       Size\n",
            "     10/100      40.2G     0.7741     0.4961      1.102          1       1280: 100% 377/377 [03:16<00:00,  1.92it/s]\n",
            "                 Class     Images  Instances      Box(P          R      mAP50  mAP50-95): 100% 31/31 [00:13<00:00,  2.22it/s]\n",
            "                   all        981       3219       0.96      0.941      0.976      0.792\n",
            "\n",
            "      Epoch    GPU_mem   box_loss   cls_loss   dfl_loss  Instances       Size\n",
            "     11/100      39.8G     0.7717     0.4947      1.103          6       1280: 100% 377/377 [03:16<00:00,  1.92it/s]\n",
            "                 Class     Images  Instances      Box(P          R      mAP50  mAP50-95): 100% 31/31 [00:13<00:00,  2.23it/s]\n",
            "                   all        981       3219       0.97      0.944      0.979      0.792\n",
            "\n",
            "      Epoch    GPU_mem   box_loss   cls_loss   dfl_loss  Instances       Size\n",
            "     12/100        40G     0.7484     0.4696      1.085          1       1280: 100% 377/377 [03:15<00:00,  1.92it/s]\n",
            "                 Class     Images  Instances      Box(P          R      mAP50  mAP50-95): 100% 31/31 [00:13<00:00,  2.24it/s]\n",
            "                   all        981       3219      0.969      0.945      0.981      0.798\n",
            "\n",
            "      Epoch    GPU_mem   box_loss   cls_loss   dfl_loss  Instances       Size\n",
            "     13/100      39.6G      0.746     0.4662       1.08          6       1280: 100% 377/377 [03:15<00:00,  1.92it/s]\n",
            "                 Class     Images  Instances      Box(P          R      mAP50  mAP50-95): 100% 31/31 [00:13<00:00,  2.22it/s]\n",
            "                   all        981       3219      0.963      0.943      0.979      0.801\n",
            "\n",
            "      Epoch    GPU_mem   box_loss   cls_loss   dfl_loss  Instances       Size\n",
            "     14/100        40G     0.7333     0.4531      1.079          1       1280: 100% 377/377 [03:16<00:00,  1.92it/s]\n",
            "                 Class     Images  Instances      Box(P          R      mAP50  mAP50-95): 100% 31/31 [00:13<00:00,  2.22it/s]\n",
            "                   all        981       3219      0.976      0.941      0.982      0.807\n",
            "\n",
            "      Epoch    GPU_mem   box_loss   cls_loss   dfl_loss  Instances       Size\n",
            "     15/100      40.1G     0.7246     0.4456      1.071          7       1280: 100% 377/377 [03:16<00:00,  1.92it/s]\n",
            "                 Class     Images  Instances      Box(P          R      mAP50  mAP50-95): 100% 31/31 [00:14<00:00,  2.21it/s]\n",
            "                   all        981       3219      0.974      0.947      0.983      0.805\n",
            "\n",
            "      Epoch    GPU_mem   box_loss   cls_loss   dfl_loss  Instances       Size\n",
            "     16/100        40G     0.7215     0.4402      1.072          5       1280: 100% 377/377 [03:16<00:00,  1.92it/s]\n",
            "                 Class     Images  Instances      Box(P          R      mAP50  mAP50-95): 100% 31/31 [00:13<00:00,  2.24it/s]\n",
            "                   all        981       3219      0.972      0.959      0.985      0.817\n",
            "\n",
            "      Epoch    GPU_mem   box_loss   cls_loss   dfl_loss  Instances       Size\n",
            "     17/100      40.1G     0.7117     0.4286      1.058          1       1280: 100% 377/377 [03:15<00:00,  1.92it/s]\n",
            "                 Class     Images  Instances      Box(P          R      mAP50  mAP50-95): 100% 31/31 [00:13<00:00,  2.22it/s]\n",
            "                   all        981       3219      0.969      0.957      0.983      0.818\n",
            "\n",
            "      Epoch    GPU_mem   box_loss   cls_loss   dfl_loss  Instances       Size\n",
            "     18/100      40.1G     0.7014     0.4196       1.06          2       1280: 100% 377/377 [03:15<00:00,  1.92it/s]\n",
            "                 Class     Images  Instances      Box(P          R      mAP50  mAP50-95): 100% 31/31 [00:13<00:00,  2.22it/s]\n",
            "                   all        981       3219      0.977      0.958      0.985      0.816\n",
            "\n",
            "      Epoch    GPU_mem   box_loss   cls_loss   dfl_loss  Instances       Size\n",
            "     19/100        40G     0.6988     0.4174      1.054          3       1280: 100% 377/377 [03:16<00:00,  1.92it/s]\n",
            "                 Class     Images  Instances      Box(P          R      mAP50  mAP50-95): 100% 31/31 [00:13<00:00,  2.23it/s]\n",
            "                   all        981       3219      0.972      0.954      0.986      0.816\n",
            "\n",
            "      Epoch    GPU_mem   box_loss   cls_loss   dfl_loss  Instances       Size\n",
            "     20/100        40G     0.6912     0.4088      1.048          4       1280: 100% 377/377 [03:16<00:00,  1.92it/s]\n",
            "                 Class     Images  Instances      Box(P          R      mAP50  mAP50-95): 100% 31/31 [00:13<00:00,  2.23it/s]\n",
            "                   all        981       3219      0.975      0.954      0.985      0.817\n",
            "\n",
            "      Epoch    GPU_mem   box_loss   cls_loss   dfl_loss  Instances       Size\n",
            "     21/100      40.1G     0.6815     0.4035      1.051          2       1280: 100% 377/377 [03:16<00:00,  1.92it/s]\n",
            "                 Class     Images  Instances      Box(P          R      mAP50  mAP50-95): 100% 31/31 [00:13<00:00,  2.22it/s]\n",
            "                   all        981       3219      0.977      0.953      0.984      0.814\n",
            "\n",
            "      Epoch    GPU_mem   box_loss   cls_loss   dfl_loss  Instances       Size\n",
            "     22/100      40.2G     0.6727     0.3949      1.033         11       1280: 100% 377/377 [03:16<00:00,  1.92it/s]\n",
            "                 Class     Images  Instances      Box(P          R      mAP50  mAP50-95): 100% 31/31 [00:14<00:00,  2.21it/s]\n",
            "                   all        981       3219      0.976      0.956      0.986      0.828\n",
            "\n",
            "      Epoch    GPU_mem   box_loss   cls_loss   dfl_loss  Instances       Size\n",
            "     23/100      40.1G     0.6689     0.3964      1.037          1       1280: 100% 377/377 [03:16<00:00,  1.92it/s]\n",
            "                 Class     Images  Instances      Box(P          R      mAP50  mAP50-95): 100% 31/31 [00:13<00:00,  2.22it/s]\n",
            "                   all        981       3219      0.982      0.959      0.987      0.827\n",
            "\n",
            "      Epoch    GPU_mem   box_loss   cls_loss   dfl_loss  Instances       Size\n",
            "     24/100      39.6G     0.6621      0.386      1.027          3       1280: 100% 377/377 [03:16<00:00,  1.92it/s]\n",
            "                 Class     Images  Instances      Box(P          R      mAP50  mAP50-95): 100% 31/31 [00:13<00:00,  2.22it/s]\n",
            "                   all        981       3219      0.969      0.967      0.988       0.83\n",
            "\n",
            "      Epoch    GPU_mem   box_loss   cls_loss   dfl_loss  Instances       Size\n",
            "     25/100      40.2G     0.6611     0.3813      1.031          1       1280: 100% 377/377 [03:16<00:00,  1.92it/s]\n",
            "                 Class     Images  Instances      Box(P          R      mAP50  mAP50-95): 100% 31/31 [00:13<00:00,  2.22it/s]\n",
            "                   all        981       3219      0.976      0.962      0.988      0.834\n",
            "\n",
            "      Epoch    GPU_mem   box_loss   cls_loss   dfl_loss  Instances       Size\n",
            "     26/100      40.1G     0.6487      0.374      1.021          4       1280: 100% 377/377 [03:16<00:00,  1.92it/s]\n",
            "                 Class     Images  Instances      Box(P          R      mAP50  mAP50-95): 100% 31/31 [00:14<00:00,  2.21it/s]\n",
            "                   all        981       3219      0.977      0.964      0.987      0.831\n",
            "\n",
            "      Epoch    GPU_mem   box_loss   cls_loss   dfl_loss  Instances       Size\n",
            "     27/100      40.2G     0.6512     0.3777       1.03          3       1280: 100% 377/377 [03:16<00:00,  1.92it/s]\n",
            "                 Class     Images  Instances      Box(P          R      mAP50  mAP50-95): 100% 31/31 [00:13<00:00,  2.22it/s]\n",
            "                   all        981       3219      0.978      0.965      0.988      0.835\n",
            "\n",
            "      Epoch    GPU_mem   box_loss   cls_loss   dfl_loss  Instances       Size\n",
            "     28/100        40G     0.6482     0.3729      1.022          2       1280: 100% 377/377 [03:16<00:00,  1.92it/s]\n",
            "                 Class     Images  Instances      Box(P          R      mAP50  mAP50-95): 100% 31/31 [00:13<00:00,  2.23it/s]\n",
            "                   all        981       3219      0.983      0.964      0.988      0.835\n",
            "\n",
            "      Epoch    GPU_mem   box_loss   cls_loss   dfl_loss  Instances       Size\n",
            "     29/100      40.1G     0.6375     0.3683      1.017          3       1280: 100% 377/377 [03:16<00:00,  1.92it/s]\n",
            "                 Class     Images  Instances      Box(P          R      mAP50  mAP50-95): 100% 31/31 [00:14<00:00,  2.20it/s]\n",
            "                   all        981       3219      0.983      0.958      0.988      0.838\n",
            "\n",
            "      Epoch    GPU_mem   box_loss   cls_loss   dfl_loss  Instances       Size\n",
            "     30/100      40.1G     0.6323     0.3599      1.011          4       1280: 100% 377/377 [03:16<00:00,  1.92it/s]\n",
            "                 Class     Images  Instances      Box(P          R      mAP50  mAP50-95): 100% 31/31 [00:14<00:00,  2.21it/s]\n",
            "                   all        981       3219       0.98      0.965      0.988      0.838\n",
            "\n",
            "      Epoch    GPU_mem   box_loss   cls_loss   dfl_loss  Instances       Size\n",
            "     31/100      40.1G     0.6286     0.3591      1.017          7       1280: 100% 377/377 [03:16<00:00,  1.92it/s]\n",
            "                 Class     Images  Instances      Box(P          R      mAP50  mAP50-95): 100% 31/31 [00:13<00:00,  2.22it/s]\n",
            "                   all        981       3219      0.979      0.967      0.989      0.839\n",
            "\n",
            "      Epoch    GPU_mem   box_loss   cls_loss   dfl_loss  Instances       Size\n",
            "     32/100      39.9G     0.6299     0.3591      1.009          3       1280: 100% 377/377 [03:16<00:00,  1.92it/s]\n",
            "                 Class     Images  Instances      Box(P          R      mAP50  mAP50-95): 100% 31/31 [00:13<00:00,  2.23it/s]\n",
            "                   all        981       3219      0.976      0.973      0.988      0.837\n",
            "\n",
            "      Epoch    GPU_mem   box_loss   cls_loss   dfl_loss  Instances       Size\n",
            "     33/100      40.1G      0.624     0.3572       1.01          8       1280: 100% 377/377 [03:16<00:00,  1.92it/s]\n",
            "                 Class     Images  Instances      Box(P          R      mAP50  mAP50-95): 100% 31/31 [00:14<00:00,  2.21it/s]\n",
            "                   all        981       3219      0.974      0.972      0.989      0.839\n",
            "\n",
            "      Epoch    GPU_mem   box_loss   cls_loss   dfl_loss  Instances       Size\n",
            "     34/100      40.1G     0.6175     0.3513      1.006          5       1280: 100% 377/377 [03:16<00:00,  1.92it/s]\n",
            "                 Class     Images  Instances      Box(P          R      mAP50  mAP50-95): 100% 31/31 [00:13<00:00,  2.22it/s]\n",
            "                   all        981       3219      0.979      0.965      0.988      0.836\n",
            "\n",
            "      Epoch    GPU_mem   box_loss   cls_loss   dfl_loss  Instances       Size\n",
            "     35/100      40.1G     0.6092     0.3477      1.002          2       1280: 100% 377/377 [03:16<00:00,  1.92it/s]\n",
            "                 Class     Images  Instances      Box(P          R      mAP50  mAP50-95): 100% 31/31 [00:14<00:00,  2.20it/s]\n",
            "                   all        981       3219      0.979       0.97       0.99      0.844\n",
            "\n",
            "      Epoch    GPU_mem   box_loss   cls_loss   dfl_loss  Instances       Size\n",
            "     36/100      39.9G     0.6047     0.3438     0.9974         12       1280: 100% 377/377 [03:16<00:00,  1.92it/s]\n",
            "                 Class     Images  Instances      Box(P          R      mAP50  mAP50-95): 100% 31/31 [00:13<00:00,  2.23it/s]\n",
            "                   all        981       3219      0.983      0.969      0.989      0.847\n",
            "\n",
            "      Epoch    GPU_mem   box_loss   cls_loss   dfl_loss  Instances       Size\n",
            "     37/100      39.6G     0.6008       0.34     0.9985          9       1280: 100% 377/377 [03:16<00:00,  1.92it/s]\n",
            "                 Class     Images  Instances      Box(P          R      mAP50  mAP50-95): 100% 31/31 [00:14<00:00,  2.21it/s]\n",
            "                   all        981       3219      0.984       0.97       0.99      0.846\n",
            "\n",
            "      Epoch    GPU_mem   box_loss   cls_loss   dfl_loss  Instances       Size\n",
            "     38/100      40.2G     0.6051     0.3426     0.9981         10       1280: 100% 377/377 [03:16<00:00,  1.92it/s]\n",
            "                 Class     Images  Instances      Box(P          R      mAP50  mAP50-95): 100% 31/31 [00:14<00:00,  2.21it/s]\n",
            "                   all        981       3219      0.983      0.972      0.988      0.842\n",
            "\n",
            "      Epoch    GPU_mem   box_loss   cls_loss   dfl_loss  Instances       Size\n",
            "     39/100      40.1G     0.5977     0.3405      0.997          2       1280: 100% 377/377 [03:15<00:00,  1.92it/s]\n",
            "                 Class     Images  Instances      Box(P          R      mAP50  mAP50-95): 100% 31/31 [00:13<00:00,  2.22it/s]\n",
            "                   all        981       3219      0.988      0.958      0.989      0.845\n",
            "\n",
            "      Epoch    GPU_mem   box_loss   cls_loss   dfl_loss  Instances       Size\n",
            "     40/100        40G     0.5858     0.3312     0.9851          3       1280: 100% 377/377 [03:16<00:00,  1.92it/s]\n",
            "                 Class     Images  Instances      Box(P          R      mAP50  mAP50-95): 100% 31/31 [00:13<00:00,  2.22it/s]\n",
            "                   all        981       3219       0.98       0.97       0.99      0.845\n",
            "\n",
            "      Epoch    GPU_mem   box_loss   cls_loss   dfl_loss  Instances       Size\n",
            "     41/100      40.1G     0.5841     0.3262     0.9874          2       1280: 100% 377/377 [03:16<00:00,  1.92it/s]\n",
            "                 Class     Images  Instances      Box(P          R      mAP50  mAP50-95): 100% 31/31 [00:13<00:00,  2.22it/s]\n",
            "                   all        981       3219       0.98       0.97       0.99      0.847\n",
            "\n",
            "      Epoch    GPU_mem   box_loss   cls_loss   dfl_loss  Instances       Size\n",
            "     42/100      40.1G     0.5802     0.3265     0.9865          3       1280: 100% 377/377 [03:16<00:00,  1.92it/s]\n",
            "                 Class     Images  Instances      Box(P          R      mAP50  mAP50-95): 100% 31/31 [00:13<00:00,  2.21it/s]\n",
            "                   all        981       3219      0.975      0.977      0.991      0.847\n",
            "\n",
            "      Epoch    GPU_mem   box_loss   cls_loss   dfl_loss  Instances       Size\n",
            "     43/100      40.2G      0.586     0.3294     0.9925          2       1280: 100% 377/377 [03:16<00:00,  1.92it/s]\n",
            "                 Class     Images  Instances      Box(P          R      mAP50  mAP50-95): 100% 31/31 [00:14<00:00,  2.21it/s]\n",
            "                   all        981       3219      0.978      0.972       0.99      0.851\n",
            "\n",
            "      Epoch    GPU_mem   box_loss   cls_loss   dfl_loss  Instances       Size\n",
            "     44/100      41.2G     0.5774     0.3244     0.9865          4       1280: 100% 377/377 [03:16<00:00,  1.92it/s]\n",
            "                 Class     Images  Instances      Box(P          R      mAP50  mAP50-95): 100% 31/31 [00:14<00:00,  2.21it/s]\n",
            "                   all        981       3219      0.982      0.972       0.99       0.85\n",
            "\n",
            "      Epoch    GPU_mem   box_loss   cls_loss   dfl_loss  Instances       Size\n",
            "     45/100      40.1G     0.5708     0.3179     0.9843          5       1280: 100% 377/377 [03:16<00:00,  1.92it/s]\n",
            "                 Class     Images  Instances      Box(P          R      mAP50  mAP50-95): 100% 31/31 [00:13<00:00,  2.22it/s]\n",
            "                   all        981       3219      0.981      0.968       0.99      0.852\n",
            "\n",
            "      Epoch    GPU_mem   box_loss   cls_loss   dfl_loss  Instances       Size\n",
            "     46/100      40.2G     0.5591       0.31     0.9712          1       1280: 100% 377/377 [03:16<00:00,  1.92it/s]\n",
            "                 Class     Images  Instances      Box(P          R      mAP50  mAP50-95): 100% 31/31 [00:14<00:00,  2.21it/s]\n",
            "                   all        981       3219       0.98      0.974       0.99       0.85\n",
            "\n",
            "      Epoch    GPU_mem   box_loss   cls_loss   dfl_loss  Instances       Size\n",
            "     47/100      40.2G     0.5639     0.3107     0.9735          3       1280: 100% 377/377 [03:16<00:00,  1.92it/s]\n",
            "                 Class     Images  Instances      Box(P          R      mAP50  mAP50-95): 100% 31/31 [00:13<00:00,  2.22it/s]\n",
            "                   all        981       3219      0.983      0.973      0.991      0.849\n",
            "\n",
            "      Epoch    GPU_mem   box_loss   cls_loss   dfl_loss  Instances       Size\n",
            "     48/100        40G     0.5608     0.3105     0.9679          3       1280: 100% 377/377 [03:16<00:00,  1.92it/s]\n",
            "                 Class     Images  Instances      Box(P          R      mAP50  mAP50-95): 100% 31/31 [00:13<00:00,  2.22it/s]\n",
            "                   all        981       3219      0.982      0.971       0.99      0.851\n",
            "\n",
            "      Epoch    GPU_mem   box_loss   cls_loss   dfl_loss  Instances       Size\n",
            "     49/100      40.1G     0.5545     0.3059     0.9687          4       1280: 100% 377/377 [03:16<00:00,  1.92it/s]\n",
            "                 Class     Images  Instances      Box(P          R      mAP50  mAP50-95): 100% 31/31 [00:14<00:00,  2.21it/s]\n",
            "                   all        981       3219      0.987      0.968       0.99      0.853\n",
            "\n",
            "      Epoch    GPU_mem   box_loss   cls_loss   dfl_loss  Instances       Size\n",
            "     50/100      40.1G     0.5504     0.3063     0.9675          7       1280: 100% 377/377 [03:16<00:00,  1.92it/s]\n",
            "                 Class     Images  Instances      Box(P          R      mAP50  mAP50-95): 100% 31/31 [00:14<00:00,  2.21it/s]\n",
            "                   all        981       3219      0.986       0.97       0.99      0.852\n",
            "\n",
            "      Epoch    GPU_mem   box_loss   cls_loss   dfl_loss  Instances       Size\n",
            "     51/100      41.5G     0.5434     0.3011     0.9697          3       1280: 100% 377/377 [03:16<00:00,  1.92it/s]\n",
            "                 Class     Images  Instances      Box(P          R      mAP50  mAP50-95): 100% 31/31 [00:13<00:00,  2.22it/s]\n",
            "                   all        981       3219      0.984      0.973       0.99      0.857\n",
            "\n",
            "      Epoch    GPU_mem   box_loss   cls_loss   dfl_loss  Instances       Size\n",
            "     52/100        40G     0.5399     0.2984     0.9637          2       1280: 100% 377/377 [03:16<00:00,  1.92it/s]\n",
            "                 Class     Images  Instances      Box(P          R      mAP50  mAP50-95): 100% 31/31 [00:13<00:00,  2.23it/s]\n",
            "                   all        981       3219      0.984      0.972       0.99      0.855\n",
            "\n",
            "      Epoch    GPU_mem   box_loss   cls_loss   dfl_loss  Instances       Size\n",
            "     53/100      39.7G     0.5419     0.3024     0.9664          3       1280: 100% 377/377 [03:16<00:00,  1.92it/s]\n",
            "                 Class     Images  Instances      Box(P          R      mAP50  mAP50-95): 100% 31/31 [00:13<00:00,  2.23it/s]\n",
            "                   all        981       3219      0.982      0.974      0.991      0.855\n",
            "\n",
            "      Epoch    GPU_mem   box_loss   cls_loss   dfl_loss  Instances       Size\n",
            "     54/100      40.2G     0.5355     0.2986     0.9604          5       1280: 100% 377/377 [03:16<00:00,  1.92it/s]\n",
            "                 Class     Images  Instances      Box(P          R      mAP50  mAP50-95): 100% 31/31 [00:13<00:00,  2.22it/s]\n",
            "                   all        981       3219      0.984      0.973       0.99      0.853\n",
            "\n",
            "      Epoch    GPU_mem   box_loss   cls_loss   dfl_loss  Instances       Size\n",
            "     55/100        40G     0.5277     0.2916     0.9583          1       1280: 100% 377/377 [03:16<00:00,  1.92it/s]\n",
            "                 Class     Images  Instances      Box(P          R      mAP50  mAP50-95): 100% 31/31 [00:13<00:00,  2.23it/s]\n",
            "                   all        981       3219      0.986      0.974       0.99      0.856\n",
            "\n",
            "      Epoch    GPU_mem   box_loss   cls_loss   dfl_loss  Instances       Size\n",
            "     56/100      39.9G     0.5306      0.293     0.9556          3       1280: 100% 377/377 [03:16<00:00,  1.92it/s]\n",
            "                 Class     Images  Instances      Box(P          R      mAP50  mAP50-95): 100% 31/31 [00:13<00:00,  2.23it/s]\n",
            "                   all        981       3219      0.983      0.972       0.99      0.855\n",
            "\n",
            "      Epoch    GPU_mem   box_loss   cls_loss   dfl_loss  Instances       Size\n",
            "     57/100      40.1G     0.5218     0.2852     0.9543          3       1280: 100% 377/377 [03:16<00:00,  1.92it/s]\n",
            "                 Class     Images  Instances      Box(P          R      mAP50  mAP50-95): 100% 31/31 [00:13<00:00,  2.22it/s]\n",
            "                   all        981       3219      0.982      0.972       0.99      0.855\n",
            "\n",
            "      Epoch    GPU_mem   box_loss   cls_loss   dfl_loss  Instances       Size\n",
            "     58/100      40.2G     0.5175     0.2855     0.9506          4       1280: 100% 377/377 [03:16<00:00,  1.92it/s]\n",
            "                 Class     Images  Instances      Box(P          R      mAP50  mAP50-95): 100% 31/31 [00:13<00:00,  2.22it/s]\n",
            "                   all        981       3219      0.982      0.975      0.991      0.859\n",
            "\n",
            "      Epoch    GPU_mem   box_loss   cls_loss   dfl_loss  Instances       Size\n",
            "     59/100      40.2G     0.5161     0.2841     0.9479          8       1280: 100% 377/377 [03:16<00:00,  1.92it/s]\n",
            "                 Class     Images  Instances      Box(P          R      mAP50  mAP50-95): 100% 31/31 [00:14<00:00,  2.21it/s]\n",
            "                   all        981       3219      0.983      0.975      0.989      0.848\n",
            "\n",
            "      Epoch    GPU_mem   box_loss   cls_loss   dfl_loss  Instances       Size\n",
            "     60/100      39.9G     0.5117     0.2814     0.9435         12       1280: 100% 377/377 [03:16<00:00,  1.92it/s]\n",
            "                 Class     Images  Instances      Box(P          R      mAP50  mAP50-95): 100% 31/31 [00:14<00:00,  2.21it/s]\n",
            "                   all        981       3219      0.981      0.975       0.99      0.856\n",
            "\n",
            "      Epoch    GPU_mem   box_loss   cls_loss   dfl_loss  Instances       Size\n",
            "     61/100      40.2G     0.5113     0.2805     0.9477          1       1280: 100% 377/377 [03:16<00:00,  1.92it/s]\n",
            "                 Class     Images  Instances      Box(P          R      mAP50  mAP50-95): 100% 31/31 [00:13<00:00,  2.22it/s]\n",
            "                   all        981       3219      0.983      0.974       0.99      0.858\n",
            "\n",
            "      Epoch    GPU_mem   box_loss   cls_loss   dfl_loss  Instances       Size\n",
            "     62/100      40.9G     0.5086     0.2798     0.9494          6       1280: 100% 377/377 [03:16<00:00,  1.92it/s]\n",
            "                 Class     Images  Instances      Box(P          R      mAP50  mAP50-95): 100% 31/31 [00:13<00:00,  2.22it/s]\n",
            "                   all        981       3219      0.985      0.971       0.99      0.857\n",
            "\n",
            "      Epoch    GPU_mem   box_loss   cls_loss   dfl_loss  Instances       Size\n",
            "     63/100      41.4G     0.5036     0.2791     0.9434          5       1280: 100% 377/377 [03:16<00:00,  1.92it/s]\n",
            "                 Class     Images  Instances      Box(P          R      mAP50  mAP50-95): 100% 31/31 [00:14<00:00,  2.21it/s]\n",
            "                   all        981       3219      0.984      0.974       0.99      0.856\n",
            "\n",
            "      Epoch    GPU_mem   box_loss   cls_loss   dfl_loss  Instances       Size\n",
            "     64/100        40G     0.5038     0.2822     0.9456          2       1280: 100% 377/377 [03:16<00:00,  1.92it/s]\n",
            "                 Class     Images  Instances      Box(P          R      mAP50  mAP50-95): 100% 31/31 [00:13<00:00,  2.22it/s]\n",
            "                   all        981       3219      0.976       0.98       0.99      0.855\n",
            "\n",
            "      Epoch    GPU_mem   box_loss   cls_loss   dfl_loss  Instances       Size\n",
            "     65/100      39.6G     0.4976     0.2753     0.9426          2       1280: 100% 377/377 [03:16<00:00,  1.92it/s]\n",
            "                 Class     Images  Instances      Box(P          R      mAP50  mAP50-95): 100% 31/31 [00:13<00:00,  2.22it/s]\n",
            "                   all        981       3219      0.979      0.977       0.99       0.86\n",
            "\n",
            "      Epoch    GPU_mem   box_loss   cls_loss   dfl_loss  Instances       Size\n",
            "     66/100      40.2G       0.49     0.2696     0.9353          5       1280: 100% 377/377 [03:16<00:00,  1.92it/s]\n",
            "                 Class     Images  Instances      Box(P          R      mAP50  mAP50-95): 100% 31/31 [00:14<00:00,  2.21it/s]\n",
            "                   all        981       3219      0.982      0.977       0.99      0.859\n",
            "\n",
            "      Epoch    GPU_mem   box_loss   cls_loss   dfl_loss  Instances       Size\n",
            "     67/100      40.1G     0.4883     0.2677     0.9408          3       1280: 100% 377/377 [03:16<00:00,  1.92it/s]\n",
            "                 Class     Images  Instances      Box(P          R      mAP50  mAP50-95): 100% 31/31 [00:14<00:00,  2.21it/s]\n",
            "                   all        981       3219      0.979      0.978      0.991       0.86\n",
            "\n",
            "      Epoch    GPU_mem   box_loss   cls_loss   dfl_loss  Instances       Size\n",
            "     68/100      39.9G     0.4859     0.2692     0.9362          2       1280: 100% 377/377 [03:16<00:00,  1.92it/s]\n",
            "                 Class     Images  Instances      Box(P          R      mAP50  mAP50-95): 100% 31/31 [00:13<00:00,  2.22it/s]\n",
            "                   all        981       3219      0.982      0.975       0.99       0.86\n",
            "\n",
            "      Epoch    GPU_mem   box_loss   cls_loss   dfl_loss  Instances       Size\n",
            "     69/100      40.1G     0.4823     0.2629      0.935          4       1280: 100% 377/377 [03:16<00:00,  1.92it/s]\n",
            "                 Class     Images  Instances      Box(P          R      mAP50  mAP50-95): 100% 31/31 [00:13<00:00,  2.22it/s]\n",
            "                   all        981       3219      0.983      0.975      0.991      0.861\n",
            "\n",
            "      Epoch    GPU_mem   box_loss   cls_loss   dfl_loss  Instances       Size\n",
            "     70/100      40.1G     0.4794     0.2672     0.9337          0       1280: 100% 377/377 [03:16<00:00,  1.92it/s]\n",
            "                 Class     Images  Instances      Box(P          R      mAP50  mAP50-95): 100% 31/31 [00:14<00:00,  2.21it/s]\n",
            "                   all        981       3219      0.985      0.974      0.991      0.861\n",
            "\n",
            "      Epoch    GPU_mem   box_loss   cls_loss   dfl_loss  Instances       Size\n",
            "     71/100      41.4G     0.4714     0.2547     0.9288         12       1280: 100% 377/377 [03:16<00:00,  1.92it/s]\n",
            "                 Class     Images  Instances      Box(P          R      mAP50  mAP50-95): 100% 31/31 [00:13<00:00,  2.22it/s]\n",
            "                   all        981       3219      0.984      0.974      0.991      0.861\n",
            "\n",
            "      Epoch    GPU_mem   box_loss   cls_loss   dfl_loss  Instances       Size\n",
            "     72/100        40G      0.472     0.2588     0.9314          8       1280: 100% 377/377 [03:16<00:00,  1.92it/s]\n",
            "                 Class     Images  Instances      Box(P          R      mAP50  mAP50-95): 100% 31/31 [00:13<00:00,  2.23it/s]\n",
            "                   all        981       3219      0.986      0.973      0.991       0.86\n",
            "\n",
            "      Epoch    GPU_mem   box_loss   cls_loss   dfl_loss  Instances       Size\n",
            "     73/100      40.1G     0.4679     0.2558     0.9295          7       1280: 100% 377/377 [03:16<00:00,  1.92it/s]\n",
            "                 Class     Images  Instances      Box(P          R      mAP50  mAP50-95): 100% 31/31 [00:14<00:00,  2.21it/s]\n",
            "                   all        981       3219      0.982      0.977       0.99      0.859\n",
            "\n",
            "      Epoch    GPU_mem   box_loss   cls_loss   dfl_loss  Instances       Size\n",
            "     74/100        40G     0.4749       0.26     0.9341          3       1280: 100% 377/377 [03:16<00:00,  1.92it/s]\n",
            "                 Class     Images  Instances      Box(P          R      mAP50  mAP50-95): 100% 31/31 [00:13<00:00,  2.23it/s]\n",
            "                   all        981       3219      0.979      0.979      0.991       0.86\n",
            "\n",
            "      Epoch    GPU_mem   box_loss   cls_loss   dfl_loss  Instances       Size\n",
            "     75/100      40.2G     0.4624      0.252     0.9234         12       1280: 100% 377/377 [03:16<00:00,  1.92it/s]\n",
            "                 Class     Images  Instances      Box(P          R      mAP50  mAP50-95): 100% 31/31 [00:13<00:00,  2.22it/s]\n",
            "                   all        981       3219      0.983      0.974      0.991       0.86\n",
            "\n",
            "      Epoch    GPU_mem   box_loss   cls_loss   dfl_loss  Instances       Size\n",
            "     76/100        40G     0.4643     0.2517     0.9274         13       1280: 100% 377/377 [03:16<00:00,  1.92it/s]\n",
            "                 Class     Images  Instances      Box(P          R      mAP50  mAP50-95): 100% 31/31 [00:13<00:00,  2.23it/s]\n",
            "                   all        981       3219      0.978      0.976      0.991      0.863\n",
            "\n",
            "      Epoch    GPU_mem   box_loss   cls_loss   dfl_loss  Instances       Size\n",
            "     77/100      40.1G     0.4503     0.2506     0.9205          3       1280: 100% 377/377 [03:16<00:00,  1.92it/s]\n",
            "                 Class     Images  Instances      Box(P          R      mAP50  mAP50-95): 100% 31/31 [00:14<00:00,  2.21it/s]\n",
            "                   all        981       3219      0.985      0.972      0.991      0.861\n",
            "\n",
            "      Epoch    GPU_mem   box_loss   cls_loss   dfl_loss  Instances       Size\n",
            "     78/100      40.1G     0.4576     0.2522     0.9232          5       1280: 100% 377/377 [03:16<00:00,  1.92it/s]\n",
            "                 Class     Images  Instances      Box(P          R      mAP50  mAP50-95): 100% 31/31 [00:14<00:00,  2.21it/s]\n",
            "                   all        981       3219      0.989      0.974      0.991      0.861\n",
            "\n",
            "      Epoch    GPU_mem   box_loss   cls_loss   dfl_loss  Instances       Size\n",
            "     79/100        40G     0.4495     0.2468     0.9176          7       1280: 100% 377/377 [03:16<00:00,  1.92it/s]\n",
            "                 Class     Images  Instances      Box(P          R      mAP50  mAP50-95): 100% 31/31 [00:13<00:00,  2.23it/s]\n",
            "                   all        981       3219      0.986      0.975      0.991       0.86\n",
            "\n",
            "      Epoch    GPU_mem   box_loss   cls_loss   dfl_loss  Instances       Size\n",
            "     80/100      39.9G     0.4435     0.2424     0.9143          4       1280: 100% 377/377 [03:16<00:00,  1.92it/s]\n",
            "                 Class     Images  Instances      Box(P          R      mAP50  mAP50-95): 100% 31/31 [00:13<00:00,  2.22it/s]\n",
            "                   all        981       3219      0.987      0.975      0.991      0.862\n",
            "\n",
            "      Epoch    GPU_mem   box_loss   cls_loss   dfl_loss  Instances       Size\n",
            "     81/100      39.7G     0.4429     0.2389      0.914          7       1280: 100% 377/377 [03:16<00:00,  1.92it/s]\n",
            "                 Class     Images  Instances      Box(P          R      mAP50  mAP50-95): 100% 31/31 [00:13<00:00,  2.23it/s]\n",
            "                   all        981       3219      0.982      0.978      0.991      0.861\n",
            "\n",
            "      Epoch    GPU_mem   box_loss   cls_loss   dfl_loss  Instances       Size\n",
            "     82/100      40.1G     0.4396     0.2393     0.9136          5       1280: 100% 377/377 [03:16<00:00,  1.92it/s]\n",
            "                 Class     Images  Instances      Box(P          R      mAP50  mAP50-95): 100% 31/31 [00:14<00:00,  2.21it/s]\n",
            "                   all        981       3219      0.986      0.973      0.992      0.862\n",
            "\n",
            "      Epoch    GPU_mem   box_loss   cls_loss   dfl_loss  Instances       Size\n",
            "     83/100      40.1G     0.4399     0.2403     0.9148          9       1280: 100% 377/377 [03:16<00:00,  1.92it/s]\n",
            "                 Class     Images  Instances      Box(P          R      mAP50  mAP50-95): 100% 31/31 [00:13<00:00,  2.22it/s]\n",
            "                   all        981       3219      0.988      0.975      0.992      0.864\n",
            "\n",
            "      Epoch    GPU_mem   box_loss   cls_loss   dfl_loss  Instances       Size\n",
            "     84/100        40G     0.4355     0.2362     0.9112          1       1280: 100% 377/377 [03:16<00:00,  1.92it/s]\n",
            "                 Class     Images  Instances      Box(P          R      mAP50  mAP50-95): 100% 31/31 [00:13<00:00,  2.23it/s]\n",
            "                   all        981       3219       0.98       0.98      0.991      0.862\n",
            "\n",
            "      Epoch    GPU_mem   box_loss   cls_loss   dfl_loss  Instances       Size\n",
            "     85/100      39.6G       0.43     0.2335     0.9094          1       1280: 100% 377/377 [03:16<00:00,  1.92it/s]\n",
            "                 Class     Images  Instances      Box(P          R      mAP50  mAP50-95): 100% 31/31 [00:13<00:00,  2.22it/s]\n",
            "                   all        981       3219      0.987      0.973      0.991      0.862\n",
            "\n",
            "      Epoch    GPU_mem   box_loss   cls_loss   dfl_loss  Instances       Size\n",
            "     86/100      40.2G     0.4294     0.2318     0.9083          3       1280: 100% 377/377 [03:16<00:00,  1.92it/s]\n",
            "                 Class     Images  Instances      Box(P          R      mAP50  mAP50-95): 100% 31/31 [00:14<00:00,  2.20it/s]\n",
            "                   all        981       3219      0.984      0.976      0.991      0.863\n",
            "\n",
            "      Epoch    GPU_mem   box_loss   cls_loss   dfl_loss  Instances       Size\n",
            "     87/100      39.7G     0.4247     0.2302     0.9086          1       1280: 100% 377/377 [03:16<00:00,  1.92it/s]\n",
            "                 Class     Images  Instances      Box(P          R      mAP50  mAP50-95): 100% 31/31 [00:13<00:00,  2.22it/s]\n",
            "                   all        981       3219      0.987      0.977      0.991      0.863\n",
            "\n",
            "      Epoch    GPU_mem   box_loss   cls_loss   dfl_loss  Instances       Size\n",
            "     88/100      39.6G     0.4209     0.2292     0.9054          3       1280: 100% 377/377 [03:16<00:00,  1.92it/s]\n",
            "                 Class     Images  Instances      Box(P          R      mAP50  mAP50-95): 100% 31/31 [00:13<00:00,  2.22it/s]\n",
            "                   all        981       3219      0.986      0.976      0.991      0.863\n",
            "\n",
            "      Epoch    GPU_mem   box_loss   cls_loss   dfl_loss  Instances       Size\n",
            "     89/100      39.7G     0.4205     0.2273     0.9034          3       1280: 100% 377/377 [03:16<00:00,  1.92it/s]\n",
            "                 Class     Images  Instances      Box(P          R      mAP50  mAP50-95): 100% 31/31 [00:13<00:00,  2.22it/s]\n",
            "                   all        981       3219      0.986      0.976      0.991      0.864\n",
            "\n",
            "      Epoch    GPU_mem   box_loss   cls_loss   dfl_loss  Instances       Size\n",
            "     90/100      40.2G     0.4209     0.2254     0.9094          1       1280: 100% 377/377 [03:16<00:00,  1.92it/s]\n",
            "                 Class     Images  Instances      Box(P          R      mAP50  mAP50-95): 100% 31/31 [00:14<00:00,  2.20it/s]\n",
            "                   all        981       3219      0.982       0.98      0.991      0.863\n",
            "Closing dataloader mosaic\n",
            "\u001b[34m\u001b[1malbumentations: \u001b[0mBlur(p=0.01, blur_limit=(3, 7)), MedianBlur(p=0.01, blur_limit=(3, 7)), ToGray(p=0.01), CLAHE(p=0.01, clip_limit=(1, 4.0), tile_grid_size=(8, 8))\n",
            "/usr/lib/python3.10/multiprocessing/popen_fork.py:66: RuntimeWarning: os.fork() was called. os.fork() is incompatible with multithreaded code, and JAX is multithreaded, so this will likely lead to a deadlock.\n",
            "  self.pid = os.fork()\n",
            "\n",
            "      Epoch    GPU_mem   box_loss   cls_loss   dfl_loss  Instances       Size\n",
            "     91/100        40G     0.3702     0.1828     0.8625          3       1280: 100% 377/377 [03:18<00:00,  1.90it/s]\n",
            "                 Class     Images  Instances      Box(P          R      mAP50  mAP50-95): 100% 31/31 [00:13<00:00,  2.22it/s]\n",
            "                   all        981       3219      0.982      0.979      0.991      0.865\n",
            "\n",
            "      Epoch    GPU_mem   box_loss   cls_loss   dfl_loss  Instances       Size\n",
            "     92/100      39.9G     0.3641       0.18     0.8543          2       1280: 100% 377/377 [03:16<00:00,  1.92it/s]\n",
            "                 Class     Images  Instances      Box(P          R      mAP50  mAP50-95): 100% 31/31 [00:13<00:00,  2.22it/s]\n",
            "                   all        981       3219      0.988      0.974      0.991      0.868\n",
            "\n",
            "      Epoch    GPU_mem   box_loss   cls_loss   dfl_loss  Instances       Size\n",
            "     93/100        40G     0.3593     0.1766     0.8568          4       1280: 100% 377/377 [03:16<00:00,  1.92it/s]\n",
            "                 Class     Images  Instances      Box(P          R      mAP50  mAP50-95): 100% 31/31 [00:13<00:00,  2.22it/s]\n",
            "                   all        981       3219      0.988      0.973      0.991      0.867\n",
            "\n",
            "      Epoch    GPU_mem   box_loss   cls_loss   dfl_loss  Instances       Size\n",
            "     94/100        40G     0.3536      0.176     0.8511          3       1280: 100% 377/377 [03:15<00:00,  1.92it/s]\n",
            "                 Class     Images  Instances      Box(P          R      mAP50  mAP50-95): 100% 31/31 [00:13<00:00,  2.22it/s]\n",
            "                   all        981       3219      0.979      0.982      0.991      0.868\n",
            "\n",
            "      Epoch    GPU_mem   box_loss   cls_loss   dfl_loss  Instances       Size\n",
            "     95/100        40G     0.3517     0.1743     0.8529          3       1280: 100% 377/377 [03:16<00:00,  1.92it/s]\n",
            "                 Class     Images  Instances      Box(P          R      mAP50  mAP50-95): 100% 31/31 [00:14<00:00,  2.21it/s]\n",
            "                   all        981       3219      0.982      0.981      0.991      0.869\n",
            "\n",
            "      Epoch    GPU_mem   box_loss   cls_loss   dfl_loss  Instances       Size\n",
            "     96/100      39.4G     0.3471     0.1721     0.8509          4       1280: 100% 377/377 [03:15<00:00,  1.92it/s]\n",
            "                 Class     Images  Instances      Box(P          R      mAP50  mAP50-95): 100% 31/31 [00:13<00:00,  2.23it/s]\n",
            "                   all        981       3219      0.984      0.979      0.991      0.869\n",
            "\n",
            "      Epoch    GPU_mem   box_loss   cls_loss   dfl_loss  Instances       Size\n",
            "     97/100      39.6G     0.3438     0.1701     0.8473          4       1280: 100% 377/377 [03:16<00:00,  1.92it/s]\n",
            "                 Class     Images  Instances      Box(P          R      mAP50  mAP50-95): 100% 31/31 [00:13<00:00,  2.22it/s]\n",
            "                   all        981       3219      0.984      0.978      0.991      0.868\n",
            "\n",
            "      Epoch    GPU_mem   box_loss   cls_loss   dfl_loss  Instances       Size\n",
            "     98/100        40G     0.3414     0.1687     0.8445          2       1280: 100% 377/377 [03:16<00:00,  1.92it/s]\n",
            "                 Class     Images  Instances      Box(P          R      mAP50  mAP50-95): 100% 31/31 [00:13<00:00,  2.22it/s]\n",
            "                   all        981       3219      0.985      0.979      0.991      0.868\n",
            "\n",
            "      Epoch    GPU_mem   box_loss   cls_loss   dfl_loss  Instances       Size\n",
            "     99/100        40G     0.3375     0.1665     0.8451          3       1280: 100% 377/377 [03:15<00:00,  1.92it/s]\n",
            "                 Class     Images  Instances      Box(P          R      mAP50  mAP50-95): 100% 31/31 [00:13<00:00,  2.22it/s]\n",
            "                   all        981       3219      0.985      0.978      0.991      0.869\n",
            "\n",
            "      Epoch    GPU_mem   box_loss   cls_loss   dfl_loss  Instances       Size\n",
            "    100/100      39.8G      0.337     0.1664     0.8439          2       1280: 100% 377/377 [03:15<00:00,  1.92it/s]\n",
            "                 Class     Images  Instances      Box(P          R      mAP50  mAP50-95): 100% 31/31 [00:13<00:00,  2.23it/s]\n",
            "                   all        981       3219      0.986      0.978      0.991      0.869\n",
            "\n",
            "100 epochs completed in 5.902 hours.\n",
            "Optimizer stripped from runs/detect/train/weights/last.pt, 87.8MB\n",
            "Optimizer stripped from runs/detect/train/weights/best.pt, 87.8MB\n",
            "\n",
            "Validating runs/detect/train/weights/best.pt...\n",
            "Ultralytics YOLOv8.0.196 🚀 Python-3.10.12 torch-2.2.1+cu121 CUDA:0 (NVIDIA A100-SXM4-40GB, 40514MiB)\n",
            "Model summary (fused): 268 layers, 43608921 parameters, 0 gradients, 164.8 GFLOPs\n",
            "                 Class     Images  Instances      Box(P          R      mAP50  mAP50-95):  10% 3/31 [00:01<00:16,  1.73it/s]WARNING ⚠️ NMS time limit 2.100s exceeded\n",
            "                 Class     Images  Instances      Box(P          R      mAP50  mAP50-95): 100% 31/31 [00:17<00:00,  1.79it/s]\n",
            "                   all        981       3219      0.984      0.952      0.978      0.857\n",
            "                  ball        981        869      0.977      0.933      0.973       0.78\n",
            "                basket        981       1109      0.994      0.957      0.977      0.913\n",
            "                person        981       1241      0.982      0.968      0.985      0.879\n",
            "Speed: 0.5ms preprocess, 8.9ms inference, 0.0ms loss, 3.7ms postprocess per image\n",
            "Results saved to \u001b[1mruns/detect/train\u001b[0m\n",
            "💡 Learn more at https://docs.ultralytics.com/modes/train\n"
          ]
        }
      ]
    },
    {
      "cell_type": "code",
      "source": [
        "%cd {HOME}\n",
        "\n",
        "!yolo task=detect mode=val model={HOME}/runs/detect/train/weights/best.pt data={dataset.location}/data.yaml"
      ],
      "metadata": {
        "colab": {
          "base_uri": "https://localhost:8080/"
        },
        "id": "J-WD4nBykbko",
        "outputId": "eeb9ac62-e061-43ff-ba92-91dba673d049"
      },
      "execution_count": null,
      "outputs": [
        {
          "output_type": "stream",
          "name": "stdout",
          "text": [
            "/content\n",
            "Ultralytics YOLOv8.0.196 🚀 Python-3.10.12 torch-2.2.1+cu121 CUDA:0 (NVIDIA A100-SXM4-40GB, 40514MiB)\n",
            "Model summary (fused): 268 layers, 43608921 parameters, 0 gradients, 164.8 GFLOPs\n",
            "\u001b[34m\u001b[1mval: \u001b[0mScanning /content/datasets/Basketball-detection-4/valid/labels.cache... 981 images, 0 backgrounds, 0 corrupt: 100% 981/981 [00:00<?, ?it/s]\n",
            "/usr/lib/python3.10/multiprocessing/popen_fork.py:66: RuntimeWarning: os.fork() was called. os.fork() is incompatible with multithreaded code, and JAX is multithreaded, so this will likely lead to a deadlock.\n",
            "  self.pid = os.fork()\n",
            "                 Class     Images  Instances      Box(P          R      mAP50  mAP50-95): 100% 62/62 [00:23<00:00,  2.65it/s]\n",
            "                   all        981       3219      0.985      0.978      0.991      0.871\n",
            "                  ball        981        869      0.978      0.955      0.986      0.792\n",
            "                basket        981       1109      0.994      0.995      0.993      0.933\n",
            "                person        981       1241      0.982      0.985      0.994      0.887\n",
            "Speed: 1.3ms preprocess, 14.5ms inference, 0.0ms loss, 3.4ms postprocess per image\n",
            "Results saved to \u001b[1mruns/detect/val\u001b[0m\n",
            "💡 Learn more at https://docs.ultralytics.com/modes/val\n"
          ]
        }
      ]
    },
    {
      "cell_type": "code",
      "source": [
        "from google.colab import drive\n",
        "drive.mount('/content/drive', force_remount=True)"
      ],
      "metadata": {
        "colab": {
          "base_uri": "https://localhost:8080/"
        },
        "id": "5Zpp9YBakyAD",
        "outputId": "5b813de0-1253-44fd-d495-c8da2a6477d1"
      },
      "execution_count": null,
      "outputs": [
        {
          "output_type": "stream",
          "name": "stdout",
          "text": [
            "Mounted at /content/drive\n"
          ]
        }
      ]
    },
    {
      "cell_type": "code",
      "source": [
        "%cd {HOME}/drive/MyDrive/"
      ],
      "metadata": {
        "colab": {
          "base_uri": "https://localhost:8080/"
        },
        "id": "wmcPf23JtIhR",
        "outputId": "7e8f95c7-44d6-4c3f-aa89-8b3a8f7dc5c3"
      },
      "execution_count": null,
      "outputs": [
        {
          "output_type": "stream",
          "name": "stdout",
          "text": [
            "/content/drive/MyDrive\n"
          ]
        }
      ]
    },
    {
      "cell_type": "code",
      "source": [
        "!zip -r runs1.zip /content/runs1"
      ],
      "metadata": {
        "colab": {
          "base_uri": "https://localhost:8080/"
        },
        "id": "GVSsV_oR0H3W",
        "outputId": "3ae14792-7378-42c7-dcdb-0bb14a221158"
      },
      "execution_count": null,
      "outputs": [
        {
          "output_type": "stream",
          "name": "stdout",
          "text": [
            "  adding: content/runs1/ (stored 0%)\n",
            "  adding: content/runs1/detect/ (stored 0%)\n",
            "  adding: content/runs1/detect/val4/ (stored 0%)\n",
            "  adding: content/runs1/detect/val4/confusion_matrix.png (deflated 32%)\n",
            "  adding: content/runs1/detect/val4/val_batch0_pred.jpg (deflated 4%)\n",
            "  adding: content/runs1/detect/val4/val_batch1_labels.jpg (deflated 3%)\n",
            "  adding: content/runs1/detect/val4/val_batch2_pred.jpg (deflated 3%)\n",
            "  adding: content/runs1/detect/val4/val_batch1_pred.jpg (deflated 3%)\n",
            "  adding: content/runs1/detect/val4/val_batch0_labels.jpg (deflated 4%)\n",
            "  adding: content/runs1/detect/val4/P_curve.png (deflated 23%)\n",
            "  adding: content/runs1/detect/val4/confusion_matrix_normalized.png (deflated 32%)\n",
            "  adding: content/runs1/detect/val4/val_batch2_labels.jpg (deflated 3%)\n",
            "  adding: content/runs1/detect/val4/R_curve.png (deflated 14%)\n",
            "  adding: content/runs1/detect/val4/F1_curve.png (deflated 15%)\n",
            "  adding: content/runs1/detect/val4/PR_curve.png (deflated 22%)\n",
            "  adding: content/runs1/detect/.ipynb_checkpoints/ (stored 0%)\n",
            "  adding: content/runs1/detect/train4/ (stored 0%)\n",
            "  adding: content/runs1/detect/train4/confusion_matrix.png (deflated 31%)\n",
            "  adding: content/runs1/detect/train4/train_batch33932.jpg (deflated 7%)\n",
            "  adding: content/runs1/detect/train4/train_batch0.jpg (deflated 3%)\n",
            "  adding: content/runs1/detect/train4/results.png (deflated 10%)\n",
            "  adding: content/runs1/detect/train4/labels_correlogram.jpg (deflated 29%)\n",
            "  adding: content/runs1/detect/train4/val_batch0_pred.jpg (deflated 3%)\n",
            "  adding: content/runs1/detect/train4/args.yaml (deflated 51%)\n",
            "  adding: content/runs1/detect/train4/train_batch2.jpg (deflated 2%)\n",
            "  adding: content/runs1/detect/train4/val_batch1_labels.jpg (deflated 3%)\n",
            "  adding: content/runs1/detect/train4/val_batch2_pred.jpg (deflated 3%)\n",
            "  adding: content/runs1/detect/train4/train_batch33930.jpg (deflated 7%)\n",
            "  adding: content/runs1/detect/train4/val_batch1_pred.jpg (deflated 3%)\n",
            "  adding: content/runs1/detect/train4/val_batch0_labels.jpg (deflated 4%)\n",
            "  adding: content/runs1/detect/train4/weights/ (stored 0%)\n",
            "  adding: content/runs1/detect/train4/weights/best.pt (deflated 8%)\n",
            "  adding: content/runs1/detect/train4/weights/last.pt (deflated 8%)\n",
            "  adding: content/runs1/detect/train4/P_curve.png (deflated 23%)\n",
            "  adding: content/runs1/detect/train4/labels.jpg (deflated 30%)\n",
            "  adding: content/runs1/detect/train4/confusion_matrix_normalized.png (deflated 31%)\n",
            "  adding: content/runs1/detect/train4/val_batch2_labels.jpg (deflated 3%)\n",
            "  adding: content/runs1/detect/train4/results.csv (deflated 86%)\n",
            "  adding: content/runs1/detect/train4/R_curve.png (deflated 14%)\n",
            "  adding: content/runs1/detect/train4/train_batch1.jpg (deflated 2%)\n",
            "  adding: content/runs1/detect/train4/F1_curve.png (deflated 14%)\n",
            "  adding: content/runs1/detect/train4/PR_curve.png (deflated 20%)\n",
            "  adding: content/runs1/detect/train4/train_batch33931.jpg (deflated 8%)\n",
            "  adding: content/runs1/detect/train4/events.out.tfevents.1713361115.f36a5be7bc5d.1405.0 (deflated 75%)\n"
          ]
        }
      ]
    },
    {
      "cell_type": "markdown",
      "source": [
        "# Inference"
      ],
      "metadata": {
        "id": "vFjTnlroMBtG"
      }
    },
    {
      "cell_type": "code",
      "source": [
        "!yolo task=detect mode=predict model=/content/drive/MyDrive/runs/detect/train4/weights/best.pt conf=0.5 imgsz=1280 source=/content/drive/MyDrive/videos/1_throws.mp4"
      ],
      "metadata": {
        "id": "4V5Ay5CaE2NU"
      },
      "execution_count": null,
      "outputs": []
    },
    {
      "cell_type": "code",
      "source": [],
      "metadata": {
        "id": "n_kcUW9aIbkI"
      },
      "execution_count": null,
      "outputs": []
    }
  ]
}
